{
 "cells": [
  {
   "cell_type": "code",
   "id": "initial_id",
   "metadata": {
    "collapsed": true,
    "ExecuteTime": {
     "end_time": "2025-10-26T11:56:03.963338Z",
     "start_time": "2025-10-26T11:56:03.956339Z"
    }
   },
   "source": [
    "from sklearn.model_selection import train_test_split, StratifiedKFold, cross_validate\n",
    "from sklearn.metrics import classification_report, accuracy_score, roc_auc_score\n",
    "from sklearn.metrics import confusion_matrix, ConfusionMatrixDisplay\n",
    "from sklearn.feature_extraction.text import TfidfVectorizer\n",
    "from sklearn.model_selection import cross_val_predict\n",
    "from sklearn.linear_model import LogisticRegression\n",
    "from sklearn.pipeline import Pipeline\n",
    "from matplotlib import pyplot as plt\n",
    "import pandas as pd\n",
    "import numpy as np"
   ],
   "outputs": [],
   "execution_count": 22
  },
  {
   "metadata": {
    "ExecuteTime": {
     "end_time": "2025-10-26T11:56:04.058338Z",
     "start_time": "2025-10-26T11:56:04.027338Z"
    }
   },
   "cell_type": "code",
   "source": "df = pd.read_csv(\"../data/code-review-dataset-clear.csv\")",
   "id": "45749f31f9c19736",
   "outputs": [],
   "execution_count": 23
  },
  {
   "metadata": {
    "ExecuteTime": {
     "end_time": "2025-10-26T11:56:04.090338Z",
     "start_time": "2025-10-26T11:56:04.075338Z"
    }
   },
   "cell_type": "code",
   "source": [
    "X_train, X_test, y_train, y_test = train_test_split(\n",
    "    df[\"message\"], df[\"is_toxic\"],\n",
    "    test_size=0.2, random_state=42, stratify=df[\"is_toxic\"]\n",
    ")"
   ],
   "id": "529b0e0c00c233b8",
   "outputs": [],
   "execution_count": 24
  },
  {
   "metadata": {},
   "cell_type": "code",
   "source": [
    "is_toxic = len(df[df[\"is_toxic\"] == 1])\n",
    "not_toxic = len(df[df[\"is_toxic\"] == 0])\n",
    "print(f\"{is_toxic=}, {not_toxic=}, {round(is_toxic/not_toxic, 2)=}\")"
   ],
   "id": "395afa3651098b24",
   "outputs": [
    {
     "name": "stdout",
     "output_type": "stream",
     "text": [
      "is_toxic=2522, not_toxic=10381, round(is_toxic/not_toxic, 2)=0.24\n"
     ]
    }
   ],
   "execution_count": 25
  },
  {
   "metadata": {
    "ExecuteTime": {
     "end_time": "2025-10-26T11:56:04.186338Z",
     "start_time": "2025-10-26T11:56:04.171338Z"
    }
   },
   "cell_type": "code",
   "source": [
    "model = Pipeline([\n",
    "    (\"tfidf\", TfidfVectorizer(\n",
    "        max_features=20000,\n",
    "        ngram_range=(1, 2),\n",
    "        stop_words=\"english\",\n",
    "    )),\n",
    "    (\"logreg\", LogisticRegression(\n",
    "        solver=\"liblinear\",\n",
    "        penalty=\"l2\",\n",
    "        class_weight=\"balanced\",\n",
    "        max_iter=500,\n",
    "        random_state=42\n",
    "    ))\n",
    "])"
   ],
   "id": "6b091c75105f1674",
   "outputs": [],
   "execution_count": 26
  },
  {
   "metadata": {},
   "cell_type": "code",
   "source": "model.fit(X_train, y_train)",
   "id": "f609fbe05dff60d2",
   "outputs": [],
   "execution_count": null
  },
  {
   "metadata": {
    "ExecuteTime": {
     "end_time": "2025-10-26T11:56:08.345278Z",
     "start_time": "2025-10-26T11:56:07.586616Z"
    }
   },
   "cell_type": "code",
   "source": [
    "y_pred = model.predict(X_test)\n",
    "y_proba = model.predict_proba(X_test)[:, 1]"
   ],
   "id": "d61cc3075f81d747",
   "outputs": [],
   "execution_count": 28
  },
  {
   "metadata": {
    "ExecuteTime": {
     "end_time": "2025-10-26T11:56:08.454383Z",
     "start_time": "2025-10-26T11:56:08.425380Z"
    }
   },
   "cell_type": "code",
   "source": [
    "print(\"Accuracy:\", accuracy_score(y_test, y_pred))\n",
    "print(\"ROC-AUC:\", roc_auc_score(y_test, y_proba))\n",
    "print(\"\\nClassification report:\\n\", classification_report(y_test, y_pred, digits=4))"
   ],
   "id": "37b3a32f3140c860",
   "outputs": [
    {
     "name": "stdout",
     "output_type": "stream",
     "text": [
      "Accuracy: 0.8938395970554048\n",
      "ROC-AUC: 0.9253998823088857\n",
      "\n",
      "Classification report:\n",
      "               precision    recall  f1-score   support\n",
      "\n",
      "           0     0.9496    0.9167    0.9329      2077\n",
      "           1     0.6997    0.7996    0.7463       504\n",
      "\n",
      "    accuracy                         0.8938      2581\n",
      "   macro avg     0.8246    0.8582    0.8396      2581\n",
      "weighted avg     0.9008    0.8938    0.8964      2581\n",
      "\n"
     ]
    }
   ],
   "execution_count": 29
  },
  {
   "metadata": {},
   "cell_type": "markdown",
   "source": "# k-fold",
   "id": "61a539c0bdafbc61"
  },
  {
   "metadata": {
    "ExecuteTime": {
     "end_time": "2025-10-26T11:56:15.156953Z",
     "start_time": "2025-10-26T11:56:08.549059Z"
    }
   },
   "cell_type": "code",
   "source": [
    "cv = StratifiedKFold(n_splits=10, shuffle=True, random_state=42)\n",
    "scoring = {\n",
    "    \"accuracy\": \"accuracy\",\n",
    "    \"precision\": \"precision\",\n",
    "    \"recall\": \"recall\",\n",
    "    \"f1\": \"f1\",\n",
    "    \"roc_auc\": \"roc_auc\",\n",
    "}\n",
    "\n",
    "cv_res = cross_validate(model, df[\"message\"], df[\"is_toxic\"], cv=cv, scoring=scoring, n_jobs=-1)\n",
    "print(\"CV metrics (mean ± std):\")\n",
    "for k, v in scoring.items():\n",
    "    s = cv_res[f\"test_{k}\"]\n",
    "    print(f\"{k:>9}: {np.mean(s):.4f} ± {np.std(s):.4f}\")\n"
   ],
   "id": "9bff58571b8a412d",
   "outputs": [
    {
     "name": "stdout",
     "output_type": "stream",
     "text": [
      "CV metrics (mean ± std):\n",
      " accuracy: 0.8924 ± 0.0090\n",
      "precision: 0.6990 ± 0.0249\n",
      "   recall: 0.7918 ± 0.0273\n",
      "       f1: 0.7421 ± 0.0203\n",
      "  roc_auc: 0.9297 ± 0.0084\n"
     ]
    }
   ],
   "execution_count": 30
  },
  {
   "metadata": {},
   "cell_type": "markdown",
   "source": "# Confusion matrix",
   "id": "749d3580794141be"
  },
  {
   "metadata": {
    "ExecuteTime": {
     "end_time": "2025-10-26T11:56:28.932296Z",
     "start_time": "2025-10-26T11:56:15.181953Z"
    }
   },
   "cell_type": "code",
   "source": [
    "y_pred_oof = cross_val_predict(model, df[\"message\"], df[\"is_toxic\"], cv=cv, n_jobs=-1)\n",
    "\n",
    "cm = confusion_matrix(df[\"is_toxic\"], y_pred_oof, labels=[0, 1])\n",
    "disp = ConfusionMatrixDisplay(confusion_matrix=cm, display_labels=[0, 1])\n",
    "disp.plot(values_format='d')\n",
    "plt.title(\"Confusion Matrix\")\n",
    "plt.tight_layout()\n",
    "plt.show()"
   ],
   "id": "9efcf384bd6d4b32",
   "outputs": [
    {
     "data": {
      "text/plain": [
       "<Figure size 640x480 with 2 Axes>"
      ],
      "image/png": "[encoded data removed]"
     },
     "metadata": {},
     "output_type": "display_data"
    }
   ],
   "execution_count": 31
  }
 ],
 "metadata": {
  "kernelspec": {
   "display_name": "Python 3",
   "language": "python",
   "name": "python3"
  },
  "language_info": {
   "codemirror_mode": {
    "name": "ipython",
    "version": 2
   },
   "file_extension": ".py",
   "mimetype": "text/x-python",
   "name": "python",
   "nbconvert_exporter": "python",
   "pygments_lexer": "ipython2",
   "version": "2.7.6"
  }
 },
 "nbformat": 4,
 "nbformat_minor": 5
}
