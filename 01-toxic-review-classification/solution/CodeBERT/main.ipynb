{
 "cells": [
  {
   "cell_type": "code",
   "id": "initial_id",
   "metadata": {
    "collapsed": true,
    "ExecuteTime": {
     "end_time": "2025-10-26T13:13:27.641036Z",
     "start_time": "2025-10-26T13:13:27.635055Z"
    }
   },
   "source": [
    "import numpy as np\n",
    "import pandas as pd\n",
    "from sklearn.model_selection import train_test_split\n",
    "from sklearn.metrics import accuracy_score, precision_recall_fscore_support\n",
    "\n",
    "from datasets import Dataset\n",
    "from transformers import (\n",
    "    AutoTokenizer,\n",
    "    AutoModelForSequenceClassification,\n",
    "    TrainingArguments,\n",
    "    Trainer,\n",
    ")\n"
   ],
   "outputs": [],
   "execution_count": 3
  },
  {
   "metadata": {},
   "cell_type": "markdown",
   "source": "# Dataset",
   "id": "e86c78bde020690e"
  },
  {
   "metadata": {
    "ExecuteTime": {
     "end_time": "2025-10-26T13:13:29.016080Z",
     "start_time": "2025-10-26T13:13:28.996083Z"
    }
   },
   "cell_type": "code",
   "source": "df = pd.read_csv(\"../data/code-review-dataset-clear.csv\")",
   "id": "914dbbf6f09be1b6",
   "outputs": [],
   "execution_count": 4
  },
  {
   "metadata": {
    "ExecuteTime": {
     "end_time": "2025-10-26T13:13:30.516006Z",
     "start_time": "2025-10-26T13:13:30.486453Z"
    }
   },
   "cell_type": "code",
   "source": [
    "X_train, X_val = train_test_split(\n",
    "    df, test_size=0.2, random_state=42, stratify=df[\"is_toxic\"]\n",
    ")\n",
    "\n",
    "train_ds = Dataset.from_pandas(\n",
    "    X_train[[\"message\", \"is_toxic\"]].rename(columns={\"message\": \"text\", \"is_toxic\": \"labels\"}),\n",
    "    preserve_index=False\n",
    ")\n",
    "val_ds = Dataset.from_pandas(\n",
    "    X_val[[\"message\", \"is_toxic\"]].rename(columns={\"message\": \"text\", \"is_toxic\": \"labels\"}),\n",
    "    preserve_index=False\n",
    ")"
   ],
   "id": "6a04e14dcca11a0f",
   "outputs": [],
   "execution_count": 5
  },
  {
   "metadata": {},
   "cell_type": "markdown",
   "source": "# RoBERTa\n",
   "id": "723790afdee3f12"
  },
  {
   "metadata": {},
   "cell_type": "code",
   "source": [
    "model_name = \"microsoft/codebert-base\"\n",
    "tokenizer = AutoTokenizer.from_pretrained(model_name, use_fast=True)\n",
    "\n",
    "def tokenize_batch(batch):\n",
    "    return tokenizer(\n",
    "        batch[\"text\"],\n",
    "        padding=\"max_length\",\n",
    "        truncation=True,\n",
    "        max_length=128,\n",
    "    )\n",
    "\n",
    "train_ds = train_ds.map(tokenize_batch, batched=True)\n",
    "val_ds   = val_ds.map(tokenize_batch, batched=True)\n",
    "\n",
    "cols_to_keep = [\"input_ids\", \"attention_mask\", \"labels\"]\n",
    "train_ds = train_ds.remove_columns([c for c in train_ds.column_names if c not in cols_to_keep])\n",
    "val_ds   = val_ds.remove_columns([c for c in val_ds.column_names   if c not in cols_to_keep])\n"
   ],
   "id": "74879e5198e3ff2d",
   "outputs": [],
   "execution_count": null
  },
  {
   "metadata": {},
   "cell_type": "code",
   "source": [
    "model = AutoModelForSequenceClassification.from_pretrained(\n",
    "    model_name,\n",
    "    num_labels=2,\n",
    "    id2label={0: \"non_toxic\", 1: \"toxic\"},\n",
    "    label2id={\"non_toxic\": 0, \"toxic\": 1},\n",
    ")\n"
   ],
   "id": "1502383330408f0e",
   "outputs": [],
   "execution_count": null
  },
  {
   "metadata": {
    "ExecuteTime": {
     "end_time": "2025-10-26T13:13:57.304491Z",
     "start_time": "2025-10-26T13:13:57.298492Z"
    }
   },
   "cell_type": "code",
   "source": [
    "\n",
    "def compute_metrics(eval_pred):\n",
    "    logits, labels = eval_pred\n",
    "    preds = np.argmax(logits, axis=1)\n",
    "    acc = accuracy_score(labels, preds)\n",
    "    p, r, f1, _ = precision_recall_fscore_support(labels, preds, average=\"binary\", pos_label=1, zero_division=0)\n",
    "    return {\"accuracy\": acc, \"precision\": p, \"recall\": r, \"f1\": f1}\n",
    "\n"
   ],
   "id": "8591a702c1c72aed",
   "outputs": [],
   "execution_count": 9
  },
  {
   "metadata": {},
   "cell_type": "code",
   "source": [
    "args = TrainingArguments(\n",
    "    output_dir=\"./codeberta_toxic_cls\",\n",
    "    save_strategy=\"epoch\",\n",
    "    eval_strategy=\"epoch\",\n",
    "    load_best_model_at_end=True,\n",
    "    metric_for_best_model=\"f1\",\n",
    "    greater_is_better=True,\n",
    "    num_train_epochs=5,\n",
    "    per_device_train_batch_size=16,\n",
    "    per_device_eval_batch_size=32,\n",
    "    learning_rate=2e-5,\n",
    "    weight_decay=0.01,\n",
    "    fp16=True,\n",
    "    logging_steps=50,\n",
    "    report_to=\"none\",\n",
    ")\n",
    "\n",
    "trainer = Trainer(\n",
    "    model=model,\n",
    "    args=args,\n",
    "    train_dataset=train_ds,\n",
    "    eval_dataset=val_ds,\n",
    "    tokenizer=tokenizer,\n",
    "    compute_metrics=compute_metrics,\n",
    ")\n"
   ],
   "id": "56f027b41ad905e",
   "outputs": [],
   "execution_count": null
  },
  {
   "metadata": {
    "ExecuteTime": {
     "end_time": "2025-10-26T13:18:10.282374Z",
     "start_time": "2025-10-26T13:14:16.698757Z"
    }
   },
   "cell_type": "code",
   "source": "trainer.train()",
   "id": "42e64eca48a145b0",
   "outputs": [
    {
     "data": {
      "text/plain": [
       "<IPython.core.display.HTML object>"
      ],
      "text/html": [
       "\n",
       "    <div>\n",
       "      \n",
       "      <progress value='3230' max='3230' style='width:300px; height:20px; vertical-align: middle;'></progress>\n",
       "      [3230/3230 03:53, Epoch 5/5]\n",
       "    </div>\n",
       "    <table border=\"1\" class=\"dataframe\">\n",
       "  <thead>\n",
       " <tr style=\"text-align: left;\">\n",
       "      <th>Epoch</th>\n",
       "      <th>Training Loss</th>\n",
       "      <th>Validation Loss</th>\n",
       "      <th>Accuracy</th>\n",
       "      <th>Precision</th>\n",
       "      <th>Recall</th>\n",
       "      <th>F1</th>\n",
       "    </tr>\n",
       "  </thead>\n",
       "  <tbody>\n",
       "    <tr>\n",
       "      <td>1</td>\n",
       "      <td>0.238600</td>\n",
       "      <td>0.234445</td>\n",
       "      <td>0.904301</td>\n",
       "      <td>0.809639</td>\n",
       "      <td>0.666667</td>\n",
       "      <td>0.731230</td>\n",
       "    </tr>\n",
       "    <tr>\n",
       "      <td>2</td>\n",
       "      <td>0.219600</td>\n",
       "      <td>0.247551</td>\n",
       "      <td>0.913599</td>\n",
       "      <td>0.836930</td>\n",
       "      <td>0.692460</td>\n",
       "      <td>0.757872</td>\n",
       "    </tr>\n",
       "    <tr>\n",
       "      <td>3</td>\n",
       "      <td>0.139600</td>\n",
       "      <td>0.294675</td>\n",
       "      <td>0.907788</td>\n",
       "      <td>0.741818</td>\n",
       "      <td>0.809524</td>\n",
       "      <td>0.774194</td>\n",
       "    </tr>\n",
       "    <tr>\n",
       "      <td>4</td>\n",
       "      <td>0.120500</td>\n",
       "      <td>0.375381</td>\n",
       "      <td>0.913212</td>\n",
       "      <td>0.786885</td>\n",
       "      <td>0.761905</td>\n",
       "      <td>0.774194</td>\n",
       "    </tr>\n",
       "    <tr>\n",
       "      <td>5</td>\n",
       "      <td>0.163400</td>\n",
       "      <td>0.388431</td>\n",
       "      <td>0.911662</td>\n",
       "      <td>0.785124</td>\n",
       "      <td>0.753968</td>\n",
       "      <td>0.769231</td>\n",
       "    </tr>\n",
       "  </tbody>\n",
       "</table><p>"
      ]
     },
     "metadata": {},
     "output_type": "display_data"
    },
    {
     "data": {
      "text/plain": [
       "TrainOutput(global_step=3230, training_loss=0.18459022281339663, metrics={'train_runtime': 233.4375, 'train_samples_per_second': 221.087, 'train_steps_per_second': 13.837, 'total_flos': 3394790391782400.0, 'train_loss': 0.18459022281339663, 'epoch': 5.0})"
      ]
     },
     "execution_count": 12,
     "metadata": {},
     "output_type": "execute_result"
    }
   ],
   "execution_count": 12
  },
  {
   "metadata": {
    "ExecuteTime": {
     "end_time": "2025-10-26T13:24:47.101992Z",
     "start_time": "2025-10-26T13:24:45.357328Z"
    }
   },
   "cell_type": "code",
   "source": [
    "eval_metrics = trainer.evaluate()\n",
    "print(eval_metrics)"
   ],
   "id": "7e31bc06cc4608e8",
   "outputs": [
    {
     "data": {
      "text/plain": [
       "<IPython.core.display.HTML object>"
      ],
      "text/html": [
       "\n",
       "    <div>\n",
       "      \n",
       "      <progress value='81' max='81' style='width:300px; height:20px; vertical-align: middle;'></progress>\n",
       "      [81/81 00:01]\n",
       "    </div>\n",
       "    "
      ]
     },
     "metadata": {},
     "output_type": "display_data"
    },
    {
     "name": "stdout",
     "output_type": "stream",
     "text": [
      "{'eval_loss': 0.2946750819683075, 'eval_accuracy': 0.9077876791941109, 'eval_precision': 0.7418181818181818, 'eval_recall': 0.8095238095238095, 'eval_f1': 0.7741935483870968, 'eval_runtime': 1.7218, 'eval_samples_per_second': 1499.036, 'eval_steps_per_second': 47.045, 'epoch': 5.0}\n"
     ]
    }
   ],
   "execution_count": 13
  }
 ],
 "metadata": {
  "kernelspec": {
   "display_name": "Python 3",
   "language": "python",
   "name": "python3"
  },
  "language_info": {
   "codemirror_mode": {
    "name": "ipython",
    "version": 2
   },
   "file_extension": ".py",
   "mimetype": "text/x-python",
   "name": "python",
   "nbconvert_exporter": "python",
   "pygments_lexer": "ipython2",
   "version": "2.7.6"
  }
 },
 "nbformat": 4,
 "nbformat_minor": 5
}
