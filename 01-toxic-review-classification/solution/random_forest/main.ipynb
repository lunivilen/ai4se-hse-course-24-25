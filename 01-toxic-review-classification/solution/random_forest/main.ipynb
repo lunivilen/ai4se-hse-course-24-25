{
 "cells": [
  {
   "cell_type": "code",
   "id": "initial_id",
   "metadata": {
    "collapsed": true,
    "ExecuteTime": {
     "end_time": "2025-10-29T17:11:33.173593Z",
     "start_time": "2025-10-29T17:11:32.006060Z"
    }
   },
   "source": [
    "from sklearn.model_selection import train_test_split, StratifiedKFold, cross_validate\n",
    "from sklearn.metrics import confusion_matrix, ConfusionMatrixDisplay\n",
    "from sklearn.metrics import classification_report, accuracy_score\n",
    "from sklearn.feature_extraction.text import TfidfVectorizer\n",
    "from sklearn.model_selection import cross_val_predict\n",
    "from sklearn.ensemble import RandomForestClassifier\n",
    "from sklearn.pipeline import Pipeline\n",
    "from matplotlib import pyplot as plt\n",
    "import pandas as pd\n",
    "import numpy as np"
   ],
   "outputs": [],
   "execution_count": 1
  },
  {
   "metadata": {
    "ExecuteTime": {
     "end_time": "2025-10-29T17:11:33.204863Z",
     "start_time": "2025-10-29T17:11:33.176963Z"
    }
   },
   "cell_type": "code",
   "source": "df = pd.read_csv(\"../data/code-review-dataset-clear.csv\")",
   "id": "45749f31f9c19736",
   "outputs": [],
   "execution_count": 2
  },
  {
   "metadata": {
    "ExecuteTime": {
     "end_time": "2025-10-29T17:11:33.220632Z",
     "start_time": "2025-10-29T17:11:33.209126Z"
    }
   },
   "cell_type": "code",
   "source": [
    "is_toxic = len(df[df[\"is_toxic\"] == 1])\n",
    "not_toxic = len(df[df[\"is_toxic\"] == 0])\n",
    "print(f\"{is_toxic=}, {not_toxic=}, {round(is_toxic/not_toxic, 2)=}\")"
   ],
   "id": "6fdbe6d3647faf11",
   "outputs": [
    {
     "name": "stdout",
     "output_type": "stream",
     "text": [
      "is_toxic=2522, not_toxic=10381, round(is_toxic/not_toxic, 2)=0.24\n"
     ]
    }
   ],
   "execution_count": 3
  },
  {
   "metadata": {
    "ExecuteTime": {
     "end_time": "2025-10-29T17:11:33.236157Z",
     "start_time": "2025-10-29T17:11:33.223638Z"
    }
   },
   "cell_type": "code",
   "source": [
    "X_train, X_test, y_train, y_test = train_test_split(\n",
    "    df[\"message\"], df[\"is_toxic\"],\n",
    "    test_size=0.2, random_state=42, stratify=df[\"is_toxic\"]\n",
    ")"
   ],
   "id": "529b0e0c00c233b8",
   "outputs": [],
   "execution_count": 4
  },
  {
   "metadata": {
    "ExecuteTime": {
     "end_time": "2025-10-29T17:11:33.251372Z",
     "start_time": "2025-10-29T17:11:33.239932Z"
    }
   },
   "cell_type": "code",
   "source": [
    "model = Pipeline([\n",
    "    (\"tfidf\", TfidfVectorizer(\n",
    "        max_features=20000,\n",
    "        ngram_range=(1, 2),\n",
    "        stop_words='english'\n",
    "    )),\n",
    "    (\"rf\", RandomForestClassifier(\n",
    "        n_estimators=300,\n",
    "        max_depth=None,\n",
    "        n_jobs=-1,\n",
    "        random_state=42\n",
    "    ))\n",
    "])"
   ],
   "id": "6b091c75105f1674",
   "outputs": [],
   "execution_count": 5
  },
  {
   "metadata": {},
   "cell_type": "code",
   "source": "model.fit(X_train, y_train)",
   "id": "f609fbe05dff60d2",
   "outputs": [],
   "execution_count": null
  },
  {
   "metadata": {
    "ExecuteTime": {
     "end_time": "2025-10-29T17:11:36.791459Z",
     "start_time": "2025-10-29T17:11:36.668287Z"
    }
   },
   "cell_type": "code",
   "source": "y_pred = model.predict(X_test)",
   "id": "d61cc3075f81d747",
   "outputs": [],
   "execution_count": 7
  },
  {
   "metadata": {
    "ExecuteTime": {
     "end_time": "2025-10-29T17:11:36.807466Z",
     "start_time": "2025-10-29T17:11:36.796462Z"
    }
   },
   "cell_type": "code",
   "source": [
    "print(\"Accuracy:\", accuracy_score(y_test, y_pred))\n",
    "print(\"\\nClassification report:\\n\", classification_report(y_test, y_pred))"
   ],
   "id": "37b3a32f3140c860",
   "outputs": [
    {
     "name": "stdout",
     "output_type": "stream",
     "text": [
      "Accuracy: 0.9074002324680357\n",
      "\n",
      "Classification report:\n",
      "               precision    recall  f1-score   support\n",
      "\n",
      "           0       0.92      0.97      0.94      2077\n",
      "           1       0.85      0.64      0.73       504\n",
      "\n",
      "    accuracy                           0.91      2581\n",
      "   macro avg       0.88      0.81      0.84      2581\n",
      "weighted avg       0.90      0.91      0.90      2581\n",
      "\n"
     ]
    }
   ],
   "execution_count": 8
  },
  {
   "metadata": {},
   "cell_type": "markdown",
   "source": "# k-fold",
   "id": "a5735fe66ef0600c"
  },
  {
   "metadata": {
    "ExecuteTime": {
     "end_time": "2025-10-29T17:11:59.378253Z",
     "start_time": "2025-10-29T17:11:36.824921Z"
    }
   },
   "cell_type": "code",
   "source": [
    "cv = StratifiedKFold(n_splits=10, shuffle=True, random_state=42)\n",
    "scoring = {\n",
    "    \"accuracy\": \"accuracy\",\n",
    "    \"precision\": \"precision\",\n",
    "    \"recall\": \"recall\",\n",
    "    \"f1\": \"f1\",\n",
    "    \"roc_auc\": \"roc_auc\",\n",
    "}\n",
    "\n",
    "cv_res = cross_validate(model, df[\"message\"], df[\"is_toxic\"], cv=cv, scoring=scoring, n_jobs=-1)\n",
    "print(\"CV metrics (mean ± std):\")\n",
    "for k, v in scoring.items():\n",
    "    s = cv_res[f\"test_{k}\"]\n",
    "    print(f\"{k:>9}: {np.mean(s):.4f} ± {np.std(s):.4f}\")\n"
   ],
   "id": "e115024327f6afea",
   "outputs": [
    {
     "name": "stdout",
     "output_type": "stream",
     "text": [
      "CV metrics (mean ± std):\n",
      " accuracy: 0.9114 ± 0.0076\n",
      "precision: 0.8619 ± 0.0217\n",
      "   recall: 0.6511 ± 0.0303\n",
      "       f1: 0.7415 ± 0.0252\n",
      "  roc_auc: 0.9326 ± 0.0099\n"
     ]
    }
   ],
   "execution_count": 9
  },
  {
   "metadata": {},
   "cell_type": "markdown",
   "source": "# Confusion matrix",
   "id": "fd6ef61c2730bd5f"
  },
  {
   "metadata": {
    "ExecuteTime": {
     "end_time": "2025-10-29T17:12:21.209884Z",
     "start_time": "2025-10-29T17:11:59.445279Z"
    }
   },
   "cell_type": "code",
   "source": [
    "y_pred_oof = cross_val_predict(model, df[\"message\"], df[\"is_toxic\"], cv=cv, n_jobs=-1)\n",
    "\n",
    "cm = confusion_matrix(df[\"is_toxic\"], y_pred_oof, labels=[0, 1])\n",
    "disp = ConfusionMatrixDisplay(confusion_matrix=cm, display_labels=[0, 1])\n",
    "disp.plot(values_format='d')\n",
    "plt.title(\"Confusion Matrix\")\n",
    "plt.tight_layout()\n",
    "plt.show()"
   ],
   "id": "d8f8d97d7ceea1c2",
   "outputs": [
    {
     "data": {
      "text/plain": [
       "<Figure size 640x480 with 2 Axes>"
      ],
      "image/png": "[encoded data removed]"
     },
     "metadata": {},
     "output_type": "display_data",
     "jetTransient": {
      "display_id": null
     }
    }
   ],
   "execution_count": 10
  }
 ],
 "metadata": {
  "kernelspec": {
   "display_name": "Python 3",
   "language": "python",
   "name": "python3"
  },
  "language_info": {
   "codemirror_mode": {
    "name": "ipython",
    "version": 2
   },
   "file_extension": ".py",
   "mimetype": "text/x-python",
   "name": "python",
   "nbconvert_exporter": "python",
   "pygments_lexer": "ipython2",
   "version": "2.7.6"
  }
 },
 "nbformat": 4,
 "nbformat_minor": 5
}
