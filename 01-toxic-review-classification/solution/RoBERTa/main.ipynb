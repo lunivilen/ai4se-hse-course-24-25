{
 "cells": [
  {
   "cell_type": "code",
   "id": "initial_id",
   "metadata": {
    "collapsed": true,
    "ExecuteTime": {
     "end_time": "2025-10-29T17:15:40.649585Z",
     "start_time": "2025-10-29T17:15:35.548457Z"
    }
   },
   "source": [
    "import numpy as np\n",
    "import pandas as pd\n",
    "from sklearn.model_selection import train_test_split\n",
    "from sklearn.metrics import accuracy_score, precision_recall_fscore_support\n",
    "\n",
    "from datasets import Dataset\n",
    "from transformers import (\n",
    "    AutoTokenizer,\n",
    "    AutoModelForSequenceClassification,\n",
    "    TrainingArguments,\n",
    "    Trainer,\n",
    ")\n"
   ],
   "outputs": [
    {
     "name": "stderr",
     "output_type": "stream",
     "text": [
      "C:\\Users\\ilya2\\Desktop\\VStudio\\Python\\TheBestMan\\.venv\\lib\\site-packages\\tqdm\\auto.py:21: TqdmWarning: IProgress not found. Please update jupyter and ipywidgets. See https://ipywidgets.readthedocs.io/en/stable/user_install.html\n",
      "  from .autonotebook import tqdm as notebook_tqdm\n"
     ]
    }
   ],
   "execution_count": 1
  },
  {
   "metadata": {},
   "cell_type": "markdown",
   "source": "# Dataset",
   "id": "e86c78bde020690e"
  },
  {
   "metadata": {
    "ExecuteTime": {
     "end_time": "2025-10-29T17:15:40.681093Z",
     "start_time": "2025-10-29T17:15:40.653585Z"
    }
   },
   "cell_type": "code",
   "source": "df = pd.read_csv(\"../data/code-review-dataset-clear.csv\")",
   "id": "914dbbf6f09be1b6",
   "outputs": [],
   "execution_count": 2
  },
  {
   "metadata": {
    "ExecuteTime": {
     "end_time": "2025-10-29T17:15:40.712102Z",
     "start_time": "2025-10-29T17:15:40.684095Z"
    }
   },
   "cell_type": "code",
   "source": [
    "X_train, X_val = train_test_split(\n",
    "    df, test_size=0.2, random_state=42, stratify=df[\"is_toxic\"]\n",
    ")\n",
    "\n",
    "train_ds = Dataset.from_pandas(\n",
    "    X_train[[\"message\", \"is_toxic\"]].rename(columns={\"message\": \"text\", \"is_toxic\": \"labels\"}),\n",
    "    preserve_index=False\n",
    ")\n",
    "val_ds = Dataset.from_pandas(\n",
    "    X_val[[\"message\", \"is_toxic\"]].rename(columns={\"message\": \"text\", \"is_toxic\": \"labels\"}),\n",
    "    preserve_index=False\n",
    ")"
   ],
   "id": "6a04e14dcca11a0f",
   "outputs": [],
   "execution_count": 3
  },
  {
   "metadata": {},
   "cell_type": "markdown",
   "source": "# RoBERTa\n",
   "id": "723790afdee3f12"
  },
  {
   "metadata": {
    "ExecuteTime": {
     "end_time": "2025-10-29T17:15:42.086298Z",
     "start_time": "2025-10-29T17:15:40.716133Z"
    }
   },
   "cell_type": "code",
   "source": [
    "model_name = \"FacebookAI/roberta-base\"\n",
    "tokenizer = AutoTokenizer.from_pretrained(model_name, use_fast=True)\n",
    "\n",
    "def tokenize_batch(batch):\n",
    "    return tokenizer(\n",
    "        batch[\"text\"],\n",
    "        padding=\"max_length\",\n",
    "        truncation=True,\n",
    "        max_length=128,\n",
    "    )\n",
    "\n",
    "train_ds = train_ds.map(tokenize_batch, batched=True)\n",
    "val_ds   = val_ds.map(tokenize_batch, batched=True)\n",
    "\n",
    "cols_to_keep = [\"input_ids\", \"attention_mask\", \"labels\"]\n",
    "train_ds = train_ds.remove_columns([c for c in train_ds.column_names if c not in cols_to_keep])\n",
    "val_ds   = val_ds.remove_columns([c for c in val_ds.column_names   if c not in cols_to_keep])\n"
   ],
   "id": "74879e5198e3ff2d",
   "outputs": [
    {
     "name": "stderr",
     "output_type": "stream",
     "text": [
      "Map: 100%|██████████| 10322/10322 [00:00<00:00, 24931.78 examples/s]\n",
      "Map: 100%|██████████| 2581/2581 [00:00<00:00, 30947.77 examples/s]\n"
     ]
    }
   ],
   "execution_count": 4
  },
  {
   "metadata": {
    "ExecuteTime": {
     "end_time": "2025-10-29T17:15:42.573506Z",
     "start_time": "2025-10-29T17:15:42.201352Z"
    }
   },
   "cell_type": "code",
   "source": [
    "model = AutoModelForSequenceClassification.from_pretrained(\n",
    "    model_name,\n",
    "    num_labels=2,\n",
    "    id2label={0: \"non_toxic\", 1: \"toxic\"},\n",
    "    label2id={\"non_toxic\": 0, \"toxic\": 1},\n",
    ")\n"
   ],
   "id": "1502383330408f0e",
   "outputs": [
    {
     "name": "stderr",
     "output_type": "stream",
     "text": [
      "Some weights of RobertaForSequenceClassification were not initialized from the model checkpoint at FacebookAI/roberta-base and are newly initialized: ['classifier.dense.bias', 'classifier.dense.weight', 'classifier.out_proj.bias', 'classifier.out_proj.weight']\n",
      "You should probably TRAIN this model on a down-stream task to be able to use it for predictions and inference.\n"
     ]
    }
   ],
   "execution_count": 5
  },
  {
   "metadata": {
    "ExecuteTime": {
     "end_time": "2025-10-29T17:15:42.589018Z",
     "start_time": "2025-10-29T17:15:42.578016Z"
    }
   },
   "cell_type": "code",
   "source": [
    "\n",
    "def compute_metrics(eval_pred):\n",
    "    logits, labels = eval_pred\n",
    "    preds = np.argmax(logits, axis=1)\n",
    "    acc = accuracy_score(labels, preds)\n",
    "    p, r, f1, _ = precision_recall_fscore_support(labels, preds, average=\"binary\", pos_label=1, zero_division=0)\n",
    "    return {\"accuracy\": acc, \"precision\": p, \"recall\": r, \"f1\": f1}\n",
    "\n"
   ],
   "id": "8591a702c1c72aed",
   "outputs": [],
   "execution_count": 6
  },
  {
   "metadata": {},
   "cell_type": "code",
   "source": [
    "args = TrainingArguments(\n",
    "    output_dir=\"./roberta_toxic_cls\",\n",
    "    save_strategy=\"epoch\",\n",
    "    eval_strategy=\"epoch\",\n",
    "    load_best_model_at_end=True,\n",
    "    metric_for_best_model=\"f1\",\n",
    "    greater_is_better=True,\n",
    "    num_train_epochs=3,\n",
    "    per_device_train_batch_size=16,\n",
    "    per_device_eval_batch_size=32,\n",
    "    learning_rate=2e-5,\n",
    "    weight_decay=0.01,\n",
    "    fp16=True,\n",
    "    logging_steps=50,\n",
    "    report_to=\"none\",\n",
    ")\n",
    "\n",
    "trainer = Trainer(\n",
    "    model=model,\n",
    "    args=args,\n",
    "    train_dataset=train_ds,\n",
    "    eval_dataset=val_ds,\n",
    "    tokenizer=tokenizer,\n",
    "    compute_metrics=compute_metrics,\n",
    ")\n"
   ],
   "id": "56f027b41ad905e",
   "outputs": [],
   "execution_count": null
  },
  {
   "metadata": {
    "ExecuteTime": {
     "end_time": "2025-10-29T17:17:11.292256Z",
     "start_time": "2025-10-29T17:15:43.194282Z"
    }
   },
   "cell_type": "code",
   "source": "trainer.train()",
   "id": "42e64eca48a145b0",
   "outputs": [
    {
     "data": {
      "text/plain": [
       "<IPython.core.display.HTML object>"
      ],
      "text/html": [
       "\n",
       "    <div>\n",
       "      \n",
       "      <progress value='1938' max='1938' style='width:300px; height:20px; vertical-align: middle;'></progress>\n",
       "      [1938/1938 01:27, Epoch 3/3]\n",
       "    </div>\n",
       "    <table border=\"1\" class=\"dataframe\">\n",
       "  <thead>\n",
       " <tr style=\"text-align: left;\">\n",
       "      <th>Epoch</th>\n",
       "      <th>Training Loss</th>\n",
       "      <th>Validation Loss</th>\n",
       "      <th>Accuracy</th>\n",
       "      <th>Precision</th>\n",
       "      <th>Recall</th>\n",
       "      <th>F1</th>\n",
       "    </tr>\n",
       "  </thead>\n",
       "  <tbody>\n",
       "    <tr>\n",
       "      <td>1</td>\n",
       "      <td>0.187500</td>\n",
       "      <td>0.210977</td>\n",
       "      <td>0.918249</td>\n",
       "      <td>0.803313</td>\n",
       "      <td>0.769841</td>\n",
       "      <td>0.786221</td>\n",
       "    </tr>\n",
       "    <tr>\n",
       "      <td>2</td>\n",
       "      <td>0.161100</td>\n",
       "      <td>0.265613</td>\n",
       "      <td>0.920186</td>\n",
       "      <td>0.834081</td>\n",
       "      <td>0.738095</td>\n",
       "      <td>0.783158</td>\n",
       "    </tr>\n",
       "    <tr>\n",
       "      <td>3</td>\n",
       "      <td>0.133200</td>\n",
       "      <td>0.313939</td>\n",
       "      <td>0.917861</td>\n",
       "      <td>0.793173</td>\n",
       "      <td>0.783730</td>\n",
       "      <td>0.788423</td>\n",
       "    </tr>\n",
       "  </tbody>\n",
       "</table><p>"
      ]
     },
     "metadata": {},
     "output_type": "display_data",
     "jetTransient": {
      "display_id": "f37d1b6190c3b02a0429ec98a44e25ba"
     }
    },
    {
     "data": {
      "text/plain": [
       "TrainOutput(global_step=1938, training_loss=0.20639460989811348, metrics={'train_runtime': 87.9994, 'train_samples_per_second': 351.889, 'train_steps_per_second': 22.023, 'total_flos': 2036874235069440.0, 'train_loss': 0.20639460989811348, 'epoch': 3.0})"
      ]
     },
     "execution_count": 8,
     "metadata": {},
     "output_type": "execute_result"
    }
   ],
   "execution_count": 8
  },
  {
   "metadata": {
    "ExecuteTime": {
     "end_time": "2025-10-29T17:17:12.757014Z",
     "start_time": "2025-10-29T17:17:11.340773Z"
    }
   },
   "cell_type": "code",
   "source": [
    "eval_metrics = trainer.evaluate()\n",
    "print(eval_metrics)"
   ],
   "id": "7e31bc06cc4608e8",
   "outputs": [
    {
     "data": {
      "text/plain": [
       "<IPython.core.display.HTML object>"
      ],
      "text/html": [
       "\n",
       "    <div>\n",
       "      \n",
       "      <progress value='81' max='81' style='width:300px; height:20px; vertical-align: middle;'></progress>\n",
       "      [81/81 00:01]\n",
       "    </div>\n",
       "    "
      ]
     },
     "metadata": {},
     "output_type": "display_data",
     "jetTransient": {
      "display_id": "b8e119fd44173edb0f2b283539139ccc"
     }
    },
    {
     "name": "stdout",
     "output_type": "stream",
     "text": [
      "{'eval_loss': 0.31393930315971375, 'eval_accuracy': 0.9178612940720651, 'eval_precision': 0.7931726907630522, 'eval_recall': 0.7837301587301587, 'eval_f1': 0.7884231536926147, 'eval_runtime': 1.4042, 'eval_samples_per_second': 1838.001, 'eval_steps_per_second': 57.682, 'epoch': 3.0}\n"
     ]
    }
   ],
   "execution_count": 9
  }
 ],
 "metadata": {
  "kernelspec": {
   "display_name": "Python 3",
   "language": "python",
   "name": "python3"
  },
  "language_info": {
   "codemirror_mode": {
    "name": "ipython",
    "version": 2
   },
   "file_extension": ".py",
   "mimetype": "text/x-python",
   "name": "python",
   "nbconvert_exporter": "python",
   "pygments_lexer": "ipython2",
   "version": "2.7.6"
  }
 },
 "nbformat": 4,
 "nbformat_minor": 5
}
